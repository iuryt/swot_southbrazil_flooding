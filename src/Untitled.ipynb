{
 "cells": [
  {
   "cell_type": "code",
   "execution_count": null,
   "id": "e5223b41-ca0f-4aeb-a4c4-cabab7eaa69f",
   "metadata": {},
   "outputs": [],
   "source": [
    "import xarray as xr\n",
    "import numpy as np\n",
    "import hvplot.xarray\n",
    "import hvplot.pandas\n",
    "from glob import glob\n",
    "from tqdm import tqdm\n",
    "from holoviews.util.transform import lon_lat_to_easting_northing\n",
    "import cmasher as cmr\n",
    "from datashader import transfer_functions as tf, reductions as rd\n",
    "import holoviews as hv\n",
    "from holoviews import opts\n",
    "import geoviews as gv\n",
    "import pandas as pd\n",
    "import geopandas as gpd\n",
    "import panel as pn\n",
    "import matplotlib.pyplot as plt"
   ]
  },
  {
   "cell_type": "code",
   "execution_count": null,
   "id": "b6cc487d-5735-4d20-b449-8ea51f0d580d",
   "metadata": {},
   "outputs": [],
   "source": [
    "fnames = glob(f\"../data/external/swot/*\")\n",
    "fnames.sort()\n",
    "fnames = np.array(fnames)"
   ]
  },
  {
   "cell_type": "code",
   "execution_count": null,
   "id": "c0d61b30-326d-4cac-ac13-3149b5b01f10",
   "metadata": {},
   "outputs": [],
   "source": [
    "ds = xr.open_dataset(fnames[-2], group=\"pixel_cloud\")\n",
    "ds[\"latitude\"].attrs[\"long_name\"] = \"latitude\"\n",
    "ds[\"longitude\"].attrs[\"long_name\"] = \"longitude\"\n",
    "ds[\"latitude\"].attrs[\"units\"] = \"°\"\n",
    "ds[\"longitude\"].attrs[\"units\"] = \"°\"\n",
    "ds.load()\n"
   ]
  },
  {
   "cell_type": "code",
   "execution_count": null,
   "id": "80e8b573-3143-43fb-b731-c1d0b89764a8",
   "metadata": {},
   "outputs": [],
   "source": [
    "image = xr.open_dataset(\"../data/external/landsat/after.nc\").rename({\"lon\": \"longitude\", \"lat\": \"latitude\"})\n",
    "image[\"longitude\"].attrs = ds.longitude.attrs\n",
    "image[\"latitude\"].attrs = ds.latitude.attrs\n",
    "\n",
    "scl = image[\"SCL\"].load()"
   ]
  },
  {
   "cell_type": "code",
   "execution_count": null,
   "id": "ca009de5-ff08-4083-b12b-cc1576bf5b80",
   "metadata": {},
   "outputs": [],
   "source": [
    "rgb = xr.concat([image[b] for b in [\"B4\", \"B3\", \"B2\"]], \"bands\").rename(\"image\").assign_coords(bands=[0,1,2]).load()\n",
    "\n",
    "# Clip outliers (e.g., 2nd and 98th percentiles)\n",
    "vmin, vmax = rgb.quantile([0.02, 0.98])\n",
    "rgb_clipped = rgb.clip(vmin, vmax)\n",
    "\n",
    "# Scale to 0-1 range (linear scaling)\n",
    "rgb_scaled = (rgb_clipped - vmin) / (vmax - vmin)\n",
    "\n",
    "# Gamma correction (optional, for better visual contrast)\n",
    "gamma = 0.8\n",
    "rgb_gamma_corrected = rgb_scaled ** (1/gamma)\n",
    "\n",
    "rgb_gamma_corrected = rgb_gamma_corrected.transpose(\"latitude\",\"longitude\",\"bands\")"
   ]
  },
  {
   "cell_type": "code",
   "execution_count": null,
   "id": "85bf8258-a83c-43b0-9c8a-7f117deb4aa1",
   "metadata": {},
   "outputs": [],
   "source": [
    "height = 300\n",
    "width = 500\n",
    "\n",
    "plot_kwargs = {\n",
    "    \"swot\": {\n",
    "        \"title\": \"\",\n",
    "        \"height\": height,\n",
    "        \"width\": width,\n",
    "        \"x\": \"longitude\",\n",
    "        \"y\": \"latitude\",\n",
    "        \"geo\": True,\n",
    "        \"rasterize\": True,\n",
    "        \"cmap\": [\n",
    "            [0, 160, 0],     # land - green\n",
    "            [255, 230, 90],  # land near water - dark yellow\n",
    "            [100, 200, 255], # water near land - very bright blue\n",
    "            [0, 0, 255],     # open water - blue\n",
    "            [14, 27, 102],   # dark water - dark blue\n",
    "            [192, 192, 192], # low coherence water near land - grey\n",
    "            [255, 150, 255], # open low coherence water - very bright pink\n",
    "        ],\n",
    "        \"clim\": (1, 7),\n",
    "        \"rescale_discrete_levels\": True,\n",
    "        \"x_sampling\": 0.0002,\n",
    "        \"y_sampling\": 0.0002,\n",
    "        \"aggregator\": \"mean\",\n",
    "        \"colorbar\": False\n",
    "    },\n",
    "    \"scl\": {\n",
    "        \"title\": \"\",\n",
    "        \"height\": height,\n",
    "        \"width\": width,\n",
    "        \"x\": \"longitude\",\n",
    "        \"y\": \"latitude\",\n",
    "        \"geo\": True,\n",
    "        \"rasterize\": True,\n",
    "        \"cmap\": [\n",
    "            [0, 0, 0],       # No Data (Missing data) - black\n",
    "            [255, 0, 0],     # Saturated or defective pixel - red\n",
    "            [47, 47, 47],    # Topographic casted shadows - very dark grey\n",
    "            [100, 50, 0],    # Cloud shadows - dark brown\n",
    "            [0, 160, 0],     # Vegetation - green\n",
    "            [255, 230, 90],  # Not-vegetated - dark yellow\n",
    "            [0, 0, 255],     # Water (dark and bright) - blue\n",
    "            [128, 128, 128], # Unclassified - dark grey\n",
    "            [192, 192, 192], # Cloud medium probability - grey\n",
    "            [255, 255, 255], # Cloud high probability - white\n",
    "            [100, 200, 255], # Thin cirrus - very bright blue\n",
    "            [255, 150, 255], # Snow or ice - very bright pink\n",
    "        ],\n",
    "        \"clim\": (0, 11),\n",
    "        \"rescale_discrete_levels\": True,\n",
    "        \"colorbar\": False,\n",
    "    },\n",
    "    \"landsat\": {\n",
    "        \"title\": \"\",\n",
    "        \"height\": height,\n",
    "        \"width\": width,\n",
    "        \"x\": \"longitude\",\n",
    "        \"y\": \"latitude\",\n",
    "        \"bands\": \"bands\",\n",
    "        \"geo\": True,\n",
    "        \"rasterize\": True,\n",
    "    },\n",
    "    \"water_depth\": {\n",
    "        \"title\": \"\",\n",
    "        \"height\": height,\n",
    "        \"width\": width,\n",
    "        \"x\": \"longitude\",\n",
    "        \"y\": \"latitude\",\n",
    "        \"color\": \"water_depth\",\n",
    "        \"colorbar\": False,\n",
    "        \"clim\": (0,12),\n",
    "        \"rasterize\": True,\n",
    "        \"geo\": True,\n",
    "        \"x_sampling\": 0.0002,\n",
    "        \"y_sampling\": 0.0002,\n",
    "        \"aggregator\": \"mean\",\n",
    "    }\n",
    "}"
   ]
  },
  {
   "cell_type": "markdown",
   "id": "de80ae22-ee99-4320-aac6-875571d72808",
   "metadata": {},
   "source": [
    "# Elevation"
   ]
  },
  {
   "cell_type": "code",
   "execution_count": null,
   "id": "e5c37848-342a-4704-956f-90bc60af9060",
   "metadata": {},
   "outputs": [],
   "source": [
    "elevation = xr.open_dataset(\"../data/external/landsat/elevation.nc\").elevation.rename({\"lon\": \"longitude\", \"lat\": \"latitude\"})\n",
    "elevation[\"longitude\"].attrs = ds.longitude.attrs\n",
    "elevation[\"latitude\"].attrs = ds.latitude.attrs\n",
    "\n",
    "ds[\"elevation\"] = elevation.interp(longitude=ds.longitude, latitude=ds.latitude)\n",
    "ds[\"scl\"] = scl.sel(longitude=ds.longitude, latitude=ds.latitude, method=\"nearest\")\n",
    "height_above_geoid = (ds.height-ds.geoid)\n",
    "ds[\"water_depth\"] = (height_above_geoid-ds.elevation)"
   ]
  },
  {
   "cell_type": "code",
   "execution_count": null,
   "id": "c676834b-2a21-4254-a9ac-cfe871027319",
   "metadata": {},
   "outputs": [],
   "source": [
    "height_above_geoid = (ds.height-ds.geoid)\n",
    "ds[\"water_depth\"] = (height_above_geoid-ds.elevation)"
   ]
  },
  {
   "cell_type": "code",
   "execution_count": null,
   "id": "515d7e79-75cf-4c2d-98ce-4e58e9247d4b",
   "metadata": {},
   "outputs": [],
   "source": [
    "ind = np.argwhere(((ds.scl==6)|(ds.classification==4)).values).ravel()\n",
    "water = ds.isel(points=ind)"
   ]
  },
  {
   "cell_type": "code",
   "execution_count": null,
   "id": "1e33e717-01a4-4d3d-ac44-0b88026fdb59",
   "metadata": {},
   "outputs": [],
   "source": [
    "(\n",
    "    scl.hvplot.quadmesh(**plot_kwargs[\"scl\"])+\n",
    "    ds.classification.hvplot.points(**plot_kwargs[\"swot\"])+\n",
    "    rgb_gamma_corrected.hvplot.rgb(**plot_kwargs[\"landsat\"])+\n",
    "    water[\"water_depth\"].hvplot.points(**plot_kwargs[\"water_depth\"])\n",
    ").cols(2)"
   ]
  },
  {
   "cell_type": "code",
   "execution_count": null,
   "id": "63da20d0-5ac4-421b-bdb6-20b500b76ebb",
   "metadata": {},
   "outputs": [],
   "source": [
    "water.water_depth.hvplot.hist(bins=np.arange(-10,10,0.1))"
   ]
  },
  {
   "cell_type": "code",
   "execution_count": null,
   "id": "0979edf9-602f-4da7-9d37-b4b94eb6e998",
   "metadata": {},
   "outputs": [],
   "source": [
    "volume = (water.water_depth.where((water.water_depth>0)&(water.water_depth<10))*water.pixel_area).sum().values"
   ]
  },
  {
   "cell_type": "code",
   "execution_count": null,
   "id": "e1b79683-2dfe-4f50-8061-b534df1ea9fb",
   "metadata": {},
   "outputs": [],
   "source": [
    "volume/1000"
   ]
  },
  {
   "cell_type": "code",
   "execution_count": null,
   "id": "f9cbb5ab-9029-4c09-9ab9-d18967427e5e",
   "metadata": {},
   "outputs": [],
   "source": [
    "cantareira = 982e6\n",
    "amazonas = 209000"
   ]
  },
  {
   "cell_type": "code",
   "execution_count": null,
   "id": "3007bc12-09f4-478c-ac7d-6dd8184fa7c5",
   "metadata": {},
   "outputs": [],
   "source": [
    "(volume/amazonas)/3600"
   ]
  },
  {
   "cell_type": "code",
   "execution_count": null,
   "id": "38f12e3a-5d19-4450-a21a-59241332aa00",
   "metadata": {},
   "outputs": [],
   "source": [
    "volume/cantareira"
   ]
  },
  {
   "cell_type": "code",
   "execution_count": null,
   "id": "27483bb6-f0bc-4b39-808b-e031276a904c",
   "metadata": {},
   "outputs": [],
   "source": [
    "import geopandas as gpd"
   ]
  },
  {
   "cell_type": "code",
   "execution_count": null,
   "id": "f3b1312f-dd09-4c7b-a032-7f6ebf4e7ea3",
   "metadata": {},
   "outputs": [],
   "source": [
    "gdf = gpd.read_file(\"../data/external/shapefiles/RM_Porto_Alegre/RM_PortoAlegre_UDH.shp\")\n",
    "gdf = gdf.rename({\"UDH_ATLAS\": \"udh\"}, axis=1)\n",
    "gdf[\"udh\"] = gdf[\"udh\"].astype(\"int\")\n",
    "gdf = gdf.set_index(\"udh\")\n"
   ]
  },
  {
   "cell_type": "code",
   "execution_count": null,
   "id": "8a2ce7be-8eca-4d23-80cf-5b484ce76733",
   "metadata": {},
   "outputs": [],
   "source": [
    "fname = \"../data/external/shapefiles/RM_Porto_Alegre/atlasivs_dadosbrutos_Porto_Alegre.xlsx\"\n",
    "df = pd.read_excel(fname, sheet_name=\"UDH\")\n",
    "df = df[df.ano==2010].reset_index(drop=True).set_index(\"udh\")\n",
    "gdf = gdf.join(df.loc[gdf.index])"
   ]
  },
  {
   "cell_type": "code",
   "execution_count": null,
   "id": "ed0b34a9-4710-4806-9faa-b1bb60e5279b",
   "metadata": {},
   "outputs": [],
   "source": [
    "clim = gdf.populacao.quantile([0.01, 0.99]).values\n",
    "clim = tuple(clim.tolist())"
   ]
  },
  {
   "cell_type": "code",
   "execution_count": null,
   "id": "3e0ee609-ae0b-4ed2-a512-c21b45094213",
   "metadata": {},
   "outputs": [],
   "source": [
    "water_plot = water[\"water_depth\"].hvplot.points(**plot_kwargs[\"water_depth\"], hover=False)"
   ]
  },
  {
   "cell_type": "code",
   "execution_count": null,
   "id": "2b13e0c4-2d4d-4463-bab9-fdf7dac13673",
   "metadata": {},
   "outputs": [],
   "source": [
    "kw = dict(height=height, width=width, geo=True, line_width=0, colorbar=False)\n",
    "(\n",
    "    rgb_gamma_corrected.hvplot.rgb(**plot_kwargs[\"landsat\"])+\n",
    "    water[\"water_depth\"].where(water[\"water_depth\"]>0).hvplot.points(**plot_kwargs[\"water_depth\"])+\n",
    "    water_plot*gdf.hvplot(color=\"ivs_infraestrutura_urbana\", cmap=cmr.flamingo_r, **kw)+\n",
    "    water_plot*gdf.hvplot(color=\"populacao\", cmap=cmr.toxic_r, clim=clim, **kw)\n",
    ").cols(2)"
   ]
  },
  {
   "cell_type": "code",
   "execution_count": null,
   "id": "003013fc-742c-43f8-95d4-eddc0d2b1d68",
   "metadata": {},
   "outputs": [],
   "source": [
    "elevation.hvplot.hist()"
   ]
  },
  {
   "cell_type": "code",
   "execution_count": null,
   "id": "5d285f28-d6c9-4826-bdbf-b7a32e0c784d",
   "metadata": {},
   "outputs": [],
   "source": [
    "kw = dict(height=height, width=width, x=\"longitude\", y=\"latitude\", geo=True, rasterize=True, colorbar=False)\n",
    "\n",
    "(\n",
    "    rgb_gamma_corrected.hvplot.rgb(**plot_kwargs[\"landsat\"])+\n",
    "    elevation.where(elevation<6).hvplot(**kw)\n",
    ").cols(1)"
   ]
  },
  {
   "cell_type": "code",
   "execution_count": null,
   "id": "d8103a5b-9b25-4428-a012-024edf38ae55",
   "metadata": {},
   "outputs": [],
   "source": []
  },
  {
   "cell_type": "code",
   "execution_count": null,
   "id": "78ef63ed-b8c4-46e8-a086-286a9aa8b3e2",
   "metadata": {},
   "outputs": [],
   "source": []
  },
  {
   "cell_type": "code",
   "execution_count": null,
   "id": "1ae5664a-3c62-4df2-b14b-0665076dafe2",
   "metadata": {},
   "outputs": [],
   "source": []
  },
  {
   "cell_type": "code",
   "execution_count": null,
   "id": "0bde9efc-4a08-4bf0-80c4-7c1779a4f3b4",
   "metadata": {},
   "outputs": [],
   "source": []
  },
  {
   "cell_type": "code",
   "execution_count": null,
   "id": "8065c363-2806-4b94-a34d-9b5e792d74f3",
   "metadata": {},
   "outputs": [],
   "source": [
    "import requests\n",
    "from bs4 import BeautifulSoup\n",
    "import json\n",
    "import fiona\n",
    "import re\n",
    "import html\n",
    "\n",
    "url = \"https://www.google.com/maps/d/u/0/viewer?mid=1ZzfSX_tPoDATywh1GptSdw5FDO9FVuU&l\"\n",
    "\n",
    "response = requests.get(url)\n",
    "soup = BeautifulSoup(response.text, 'html.parser')"
   ]
  },
  {
   "cell_type": "code",
   "execution_count": null,
   "id": "57e61a0e-524d-48b9-b5f5-5daa14fc5ef7",
   "metadata": {},
   "outputs": [],
   "source": [
    "# (1) Find the script tag that contains the map data\n",
    "scripts = soup.find_all('script')\n",
    "\n",
    "# (2) Search for the variable containing the GeoJSON data\n",
    "pattern = re.compile(r'var _pageData = (.*?);')\n",
    "for script in soup.find_all('script'):\n",
    "    match = pattern.search(script.text)\n",
    "    if match:\n",
    "        # (2) Decode and convert to a Python list\n",
    "        page_data_string = html.unescape(match.group(1))\n",
    "        page_data = json.loads(page_data_string)\n",
    "        break\n",
    "else:\n",
    "    raise ValueError(\"Could not find _pageData in the HTML source.\")"
   ]
  },
  {
   "cell_type": "code",
   "execution_count": null,
   "id": "398b0e2f-7c05-4698-b43d-169f2f0b2adc",
   "metadata": {},
   "outputs": [],
   "source": [
    "# (3) Extract the GeoJSON data from page_data (this part is tricky and needs to be adjusted based on the actual structure)\n",
    "geojson_data = None\n",
    "for item in page_data:\n",
    "    if isinstance(item, list):\n",
    "        for subitem in item:\n",
    "            if isinstance(subitem, list) and \"Mancha de inundação\" in subitem: \n",
    "                # This seems to be where the GeoJSON is stored\n",
    "                # Adapt the indexing based on the structure\n",
    "                geojson_data = subitem[2][0][4][0]\n",
    "                break\n",
    "        if geojson_data:\n",
    "            break  # Exit the loop if we found the GeoJSON"
   ]
  },
  {
   "cell_type": "code",
   "execution_count": null,
   "id": "0b82b731-dfca-467d-8082-7b4c0ccebf8c",
   "metadata": {},
   "outputs": [],
   "source": [
    "page_data_string = page_data_string.strip('\"')\n",
    "page_data_string = page_data_string.replace(\"\\\\u003d\", \"=\")\n",
    "\n",
    "page_data = json.loads(page_data_string)"
   ]
  },
  {
   "cell_type": "code",
   "execution_count": null,
   "id": "0f33608d-2d45-4cf4-8b66-b113aec3fef5",
   "metadata": {},
   "outputs": [],
   "source": [
    "page_data_string.split('\\\\\"')"
   ]
  },
  {
   "cell_type": "code",
   "execution_count": null,
   "id": "02ad38ba-50d3-45cc-9500-3a0f20cefd3b",
   "metadata": {},
   "outputs": [],
   "source": []
  }
 ],
 "metadata": {
  "kernelspec": {
   "display_name": "coringa",
   "language": "python",
   "name": "coringa"
  },
  "language_info": {
   "codemirror_mode": {
    "name": "ipython",
    "version": 3
   },
   "file_extension": ".py",
   "mimetype": "text/x-python",
   "name": "python",
   "nbconvert_exporter": "python",
   "pygments_lexer": "ipython3",
   "version": "3.9.15"
  }
 },
 "nbformat": 4,
 "nbformat_minor": 5
}
