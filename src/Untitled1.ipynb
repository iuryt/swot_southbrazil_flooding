{
 "cells": [
  {
   "cell_type": "code",
   "execution_count": null,
   "id": "3d64c871-e78b-4708-ad6e-a2503f310742",
   "metadata": {},
   "outputs": [],
   "source": [
    "import xarray as xr\n",
    "import pandas as pd\n",
    "import numpy as np\n",
    "import matplotlib.pyplot as plt\n",
    "from datetime import datetime, timedelta\n",
    "import geopandas as gpd\n",
    "from tools import load_ana_data\n",
    "from glob import glob\n",
    "from tqdm import tqdm"
   ]
  },
  {
   "cell_type": "code",
   "execution_count": null,
   "id": "968ce552-ff91-4a8e-a6cd-2b9a76ba2b02",
   "metadata": {},
   "outputs": [],
   "source": [
    "stations = pd.read_excel(\"../data/external/hydroweb/stations.xlsx\")\n",
    "stations[\"Longitude\"], stations[\"Latitude\"] = stations[\"lon\"], stations[\"lat\"]\n",
    "stations = stations.drop([\"lon\", \"lat\"], axis=1)\n",
    "stations = gpd.GeoDataFrame(stations, geometry=gpd.points_from_xy(stations.Longitude, stations.Latitude))\n",
    "where = (\n",
    "    (stations.Latitude>-30.37)&(stations.Latitude<-29.64)&\n",
    "    (stations.Longitude>-51.59)&(stations.Longitude<-50.8)\n",
    ")\n",
    "stations = stations[where]\n",
    "stations_xr = stations[[\"Longitude\", \"Latitude\", \"Nome\", \"Codigo\"]].reset_index(drop=True).to_xarray().rename(index=\"station\")\n",
    "stations.head()"
   ]
  },
  {
   "cell_type": "code",
   "execution_count": null,
   "id": "8c3a2b49-af6b-4fa0-a24f-4ae111b621a9",
   "metadata": {},
   "outputs": [],
   "source": [
    "variables = [\"water_frac\", \"water_frac_uncert\", \"classification\", \"illumination_time\", \"height\",\"geoid\"]\n",
    "dlon = 20/(111.2e3*np.cos(stations.Latitude.mean()*np.pi/180))\n",
    "dlat = 20/(111.2e3)\n",
    "\n",
    "selected = {station:[] for station in stations_xr.station.values}\n",
    "\n",
    "fnames = glob(f\"../data/external/swot/*\")\n",
    "fnames.sort()\n",
    "fnames = np.array(fnames)\n",
    "\n",
    "dmax = 20\n",
    "dsp = []\n",
    "for fname in tqdm(fnames):\n",
    "    dsi = xr.open_dataset(fname, group=\"pixel_cloud\")\n",
    "    \n",
    "    dx = ((dsi.longitude-stations_xr.Longitude)*(111.2e3*np.cos(stations.Latitude.mean()*np.pi/180)))\n",
    "    dy = ((dsi.latitude-stations_xr.Latitude)*(111.2e3))\n",
    "    dist = np.sqrt(dx**2 + dy**2)\n",
    "    \n",
    "    if (dist.min(\"points\")<dmax).sum()>1:\n",
    "        ind = np.argwhere((dist<dmax).any(\"points\").values).ravel()\n",
    "        dist = dist.isel(station=ind)\n",
    "\n",
    "        for i in dist.station.values:\n",
    "            disti = dist.sel(station=i)\n",
    "            ind = np.argwhere((disti<dmax).values).ravel()\n",
    "            dspi = dsi[variables].isel(points=ind)\n",
    "            dspi = dspi.assign_coords(points=np.arange(dspi.points.size))\n",
    "            dspi = dspi.assign(distance=disti.isel(points=ind))\n",
    "            selected[i].append(dspi)\n",
    "            \n",
    "for i in selected:\n",
    "    dsi = xr.concat(selected[i], \"obs\")\n",
    "    dsi = dsi.assign_coords(obs=np.arange(dsi.obs.size))\n",
    "    selected[i] = dsi\n",
    "selected = xr.concat([selected[i] for i in selected], \"station\")\n",
    "selected = selected.assign_coords(time=selected.illumination_time.mean(\"points\"))\n",
    "selected = selected.assign_coords(name=stations_xr.Nome)\n",
    "selected[\"time\"] = selected[\"time\"]-np.timedelta64(3,\"h\")"
   ]
  },
  {
   "cell_type": "code",
   "execution_count": null,
   "id": "099c1b6c-a640-42e9-8d07-ed70e5d142f9",
   "metadata": {},
   "outputs": [],
   "source": [
    "# fname = \"../data/external/hydroweb/5-87242000-TERMINAL CATSUL GUAÍBA-2024-07-09.xls\"\n",
    "fname = \"../data/external/hydroweb/5-87450004-CAIS MAUÁ C6-2024-05-23.xlsx\"\n",
    "ana = load_ana_data(fname)\n",
    "ana"
   ]
  },
  {
   "cell_type": "code",
   "execution_count": null,
   "id": "63973728-0505-4fb6-a2b3-7b117388cca2",
   "metadata": {},
   "outputs": [],
   "source": [
    "fnames = glob(f\"../data/external/swot/*\")\n",
    "fnames.sort()\n",
    "fnames = np.array(fnames)\n",
    "\n",
    "ds = xr.open_dataset(fnames[-2], group=\"pixel_cloud\")\n",
    "ds[\"latitude\"].attrs[\"long_name\"] = \"latitude\"\n",
    "ds[\"longitude\"].attrs[\"long_name\"] = \"longitude\"\n",
    "ds[\"latitude\"].attrs[\"units\"] = \"°\"\n",
    "ds[\"longitude\"].attrs[\"units\"] = \"°\"\n",
    "ds.load()\n"
   ]
  },
  {
   "cell_type": "code",
   "execution_count": null,
   "id": "a27a01bd-838b-45ff-a6c2-405e45f22768",
   "metadata": {},
   "outputs": [],
   "source": [
    "import hvplot.xarray\n",
    "var = \"classification\"\n",
    "kw = {\n",
    "    \"title\": \"\",\n",
    "    \"x\": \"longitude\",\n",
    "    \"y\": \"latitude\",\n",
    "    \"geo\": True,\n",
    "    \"rasterize\": True,\n",
    "    \"cmap\": [\n",
    "        [0, 160, 0],     # land - green\n",
    "        [255, 230, 90],  # land near water - dark yellow\n",
    "        [100, 200, 255], # water near land - very bright blue\n",
    "        [0, 0, 255],     # open water - blue\n",
    "        [14, 27, 102],   # dark water - dark blue\n",
    "        [192, 192, 192], # low coherence water near land - grey\n",
    "        [255, 150, 255], # open low coherence water - very bright pink\n",
    "    ],\n",
    "    \"clim\": (1, 7),\n",
    "    \"rescale_discrete_levels\": True,\n",
    "    \"x_sampling\": 0.0002,\n",
    "    \"y_sampling\": 0.0002,\n",
    "    \"aggregator\": \"mean\",\n",
    "    \"colorbar\": False\n",
    "}"
   ]
  },
  {
   "cell_type": "code",
   "execution_count": null,
   "id": "52fe9270-bc86-4833-bacc-21cad5400c36",
   "metadata": {},
   "outputs": [],
   "source": [
    "import pandas as pd\n",
    "import hvplot.pandas\n",
    "\n",
    "# Your longitude and latitude\n",
    "longitude = ana.longitude.values\n",
    "latitude = ana.latitude.values\n",
    "\n",
    "# Create a DataFrame for your point\n",
    "df = pd.DataFrame({\"Longitude\": [longitude], \"Latitude\": [latitude]})"
   ]
  },
  {
   "cell_type": "code",
   "execution_count": null,
   "id": "cc84a92b-c358-4cd0-b4e4-dc5f01e918ca",
   "metadata": {},
   "outputs": [],
   "source": [
    "# Generate the map\n",
    "map_plot = df.hvplot.points(\n",
    "    \"Longitude\", \n",
    "    \"Latitude\",\n",
    "    color=\"red\",\n",
    "    geo=True,  # Enable geographic plotting\n",
    ")\n",
    "\n",
    "ds[[var]].hvplot.points(**kw)*map_plot"
   ]
  },
  {
   "cell_type": "code",
   "execution_count": null,
   "id": "06d5467e-d7d3-414a-92a4-3f80257c6aaa",
   "metadata": {},
   "outputs": [],
   "source": [
    "swot = selected.where(selected.name==fname.split(\"-\")[-4], drop=True)"
   ]
  },
  {
   "cell_type": "code",
   "execution_count": null,
   "id": "22baeea0-01eb-46c2-927d-1cb82f9d66e5",
   "metadata": {},
   "outputs": [],
   "source": []
  },
  {
   "cell_type": "code",
   "execution_count": null,
   "id": "a90f9597-c52a-4e96-990a-f8e6c3baaf6e",
   "metadata": {},
   "outputs": [],
   "source": []
  }
 ],
 "metadata": {
  "kernelspec": {
   "display_name": "coringa",
   "language": "python",
   "name": "coringa"
  },
  "language_info": {
   "codemirror_mode": {
    "name": "ipython",
    "version": 3
   },
   "file_extension": ".py",
   "mimetype": "text/x-python",
   "name": "python",
   "nbconvert_exporter": "python",
   "pygments_lexer": "ipython3",
   "version": "3.9.15"
  }
 },
 "nbformat": 4,
 "nbformat_minor": 5
}
